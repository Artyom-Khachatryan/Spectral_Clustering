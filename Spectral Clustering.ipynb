{
 "cells": [
  {
   "cell_type": "code",
   "execution_count": 403,
   "id": "b78649db",
   "metadata": {},
   "outputs": [],
   "source": [
    "import numpy as np"
   ]
  },
  {
   "cell_type": "code",
   "execution_count": 407,
   "id": "9d8b32f6",
   "metadata": {},
   "outputs": [
    {
     "data": {
      "text/plain": [
       "<__main__.SpectralClustering at 0x1222a783250>"
      ]
     },
     "execution_count": 407,
     "metadata": {},
     "output_type": "execute_result"
    }
   ],
   "source": [
    "class SpectralClustering:\n",
    "    def __init__(self, n_clusters, sigma = 1, affinity = 'rbf'):\n",
    "        self.k = n_clusters\n",
    "        self.sigma = sigma\n",
    "    def fit(self, X):\n",
    "        \n",
    "        affinity_matrix = np.zeros((X.shape[0], X.shape[0]))\n",
    "        for i in range(len(affinity_matrix)):\n",
    "            for j in range(len(affinity_matrix)):\n",
    "                distance = np.linalg.norm(X[i]-X[j])\n",
    "                affinity_matrix[i][j] = np.exp(-distance**2/(self.sigma)**2)\n",
    "    \n",
    "        D = np.zeros((X.shape[0], X.shape[0]))\n",
    "        for i in range(affinity_matrix.shape[0]):\n",
    "            D[i][i] = np.sum(affinity_matrix[i])\n",
    "            \n",
    "        laplacian_matrix = np.eye(X.shape[0], X.shape[0]) - np.matmul(np.linalg.inv(D), affinity_matrix)\n",
    "        \n",
    "        eigvals, eigvecs = np.linalg.eigh(laplacian_matrix)\n",
    "\n",
    "        # Use the k smallest eigenvectors as features\n",
    "        f = eigvecs[:, :self.k]\n",
    "        \n",
    "        from sklearn.cluster import KMeans\n",
    "        kmeans = KMeans(n_clusters=2, random_state = 0, n_init = 10)\n",
    "        kmeans.fit(f)\n",
    "        \n",
    "        self.labels = kmeans.labels_\n",
    "\n",
    "    def predict(self, X):\n",
    "        self.fit(X)\n",
    "        return self.labels\n",
    "\n",
    "model = SpectralClustering(2)\n",
    "model"
   ]
  }
 ],
 "metadata": {
  "kernelspec": {
   "display_name": "Python 3 (ipykernel)",
   "language": "python",
   "name": "python3"
  },
  "language_info": {
   "codemirror_mode": {
    "name": "ipython",
    "version": 3
   },
   "file_extension": ".py",
   "mimetype": "text/x-python",
   "name": "python",
   "nbconvert_exporter": "python",
   "pygments_lexer": "ipython3",
   "version": "3.10.9"
  }
 },
 "nbformat": 4,
 "nbformat_minor": 5
}
