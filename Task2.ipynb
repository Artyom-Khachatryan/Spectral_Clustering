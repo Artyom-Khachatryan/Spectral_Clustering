{
  "nbformat": 4,
  "nbformat_minor": 0,
  "metadata": {
    "colab": {
      "provenance": []
    },
    "kernelspec": {
      "name": "python3",
      "display_name": "Python 3"
    },
    "language_info": {
      "name": "python"
    }
  },
  "cells": [
    {
      "cell_type": "code",
      "execution_count": 14,
      "metadata": {
        "id": "RxG2lcoeQD46"
      },
      "outputs": [],
      "source": [
        "import tensorflow as tf\n",
        "\n",
        "class DenseLayer(tf.Module):\n",
        "    def __init__(self, outputs):\n",
        "        super().__init__()\n",
        "        self.outputs = outputs\n",
        "        self.fl_init = False\n",
        "    def __call__(self, x):\n",
        "        if not self.fl_init:\n",
        "            self.w = tf.random.truncated_normal((x.shape[-1], self.outputs), stddev = 1, name = 'w')\n",
        "            self.b = tf.zeros([self.outputs], dtype = tf.float32, name = 'b')\n",
        "\n",
        "            self.w = tf.Variable(self.w)\n",
        "            self.b = tf.Variable(self.b)\n",
        "\n",
        "            self.fl_init = True\n",
        "        y = tf.matmul(x, self.w) + self.b\n",
        "        \n",
        "        return y"
      ]
    },
    {
      "cell_type": "code",
      "source": [
        "class DenseNetwork(tf.Module):\n",
        "    def __init__(self, layer_sizes):\n",
        "        super().__init__()\n",
        "        self.layers = []\n",
        "        for i in range(len(layer_sizes) - 1):\n",
        "            self.layers.append(DenseLayer(layer_sizes[i]))\n",
        "\n",
        "    def __call__(self, inputs):\n",
        "        for layer in self.layers:\n",
        "            inputs = tf.nn.relu(layer(inputs))\n",
        "        return inputs"
      ],
      "metadata": {
        "id": "Nyv339E-QGan"
      },
      "execution_count": 15,
      "outputs": []
    },
    {
      "cell_type": "code",
      "source": [
        "model = DenseNetwork([32,1])\n",
        "x_train = tf.random.uniform(minval = 0, maxval = 10, shape = (100, 2))\n",
        "y_train = [a+b for a,b in x_train]\n",
        "\n",
        "loss = lambda x,y: tf.reduce_mean(tf.square(x-y))\n",
        "opt = tf.optimizers.SGD(learning_rate=0.01)\n",
        "epochs =  100\n",
        "\n",
        "for n in range(epochs):\n",
        "    for x, y in zip(x_train, y_train):\n",
        "        x = tf.expand_dims(x, axis = 0)\n",
        "        y = tf.constant(y, shape = (1, 1))\n",
        "\n",
        "        with tf.GradientTape() as tape:\n",
        "            f_loss = loss(y, model(x))\n",
        "\n",
        "        grads = tape.gradient(f_loss, model.trainable_variables)\n",
        "        opt.apply_gradients(zip(grads, model.trainable_variables))\n",
        "\n",
        "    print(f_loss.numpy())\n"
      ],
      "metadata": {
        "colab": {
          "base_uri": "https://localhost:8080/"
        },
        "id": "HhDgo92MQKSL",
        "outputId": "11f8e7c9-fd0c-4c78-8178-520519dc5c1e"
      },
      "execution_count": 16,
      "outputs": [
        {
          "output_type": "stream",
          "name": "stdout",
          "text": [
            "59.952904\n",
            "51.192356\n",
            "47.685574\n",
            "43.69117\n",
            "43.67299\n",
            "43.662746\n",
            "43.65944\n",
            "43.658455\n",
            "43.65821\n",
            "43.658176\n",
            "43.65819\n",
            "43.658207\n",
            "43.658215\n",
            "43.65822\n",
            "43.65821\n",
            "43.658203\n",
            "43.65819\n",
            "43.65818\n",
            "43.658165\n",
            "43.658157\n",
            "43.658142\n",
            "43.65813\n",
            "43.658115\n",
            "43.658104\n",
            "43.658092\n",
            "43.65808\n",
            "43.658066\n",
            "43.65806\n",
            "43.658047\n",
            "43.658035\n",
            "43.658024\n",
            "43.658012\n",
            "43.658\n",
            "43.65799\n",
            "43.65798\n",
            "43.657967\n",
            "43.65796\n",
            "43.657948\n",
            "43.65794\n",
            "43.657932\n",
            "43.65792\n",
            "43.657913\n",
            "43.6579\n",
            "43.657894\n",
            "43.657883\n",
            "43.65788\n",
            "43.657867\n",
            "43.65786\n",
            "43.657852\n",
            "43.657845\n",
            "43.657837\n",
            "43.65783\n",
            "43.65782\n",
            "43.657814\n",
            "43.657806\n",
            "43.6578\n",
            "43.65779\n",
            "43.657784\n",
            "43.657776\n",
            "43.65777\n",
            "43.657764\n",
            "43.657757\n",
            "43.657753\n",
            "43.65774\n",
            "43.657738\n",
            "43.65773\n",
            "43.657722\n",
            "43.657722\n",
            "43.657715\n",
            "43.657707\n",
            "43.6577\n",
            "43.657696\n",
            "43.657692\n",
            "43.657684\n",
            "43.65768\n",
            "43.657673\n",
            "43.65767\n",
            "43.657665\n",
            "43.657658\n",
            "43.657654\n",
            "43.657646\n",
            "43.657646\n",
            "43.65764\n",
            "43.65764\n",
            "43.65763\n",
            "43.657623\n",
            "43.657623\n",
            "43.657616\n",
            "43.65761\n",
            "43.657608\n",
            "43.657604\n",
            "43.6576\n",
            "43.6576\n",
            "43.657593\n",
            "43.65759\n",
            "43.657585\n",
            "43.657585\n",
            "43.657578\n",
            "43.657574\n",
            "43.65757\n"
          ]
        }
      ]
    },
    {
      "cell_type": "code",
      "source": [],
      "metadata": {
        "id": "BneZMjTcQQYc"
      },
      "execution_count": null,
      "outputs": []
    }
  ]
}